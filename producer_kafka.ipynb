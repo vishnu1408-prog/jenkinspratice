{
 "cells": [
  {
   "cell_type": "code",
   "execution_count": 1,
   "id": "eeb09bde",
   "metadata": {},
   "outputs": [
    {
     "name": "stdout",
     "output_type": "stream",
     "text": [
      "Note: you may need to restart the kernel to use updated packages.Requirement already satisfied: kafka-python in e:\\anacoda\\lib\\site-packages (2.0.2)\n",
      "\n"
     ]
    }
   ],
   "source": [
    "pip install kafka-python"
   ]
  },
  {
   "cell_type": "code",
   "execution_count": 2,
   "id": "75cec24a",
   "metadata": {},
   "outputs": [],
   "source": [
    "import pandas as pd\n",
    "from kafka import KafkaConsumer,KafkaProducer\n",
    "from time import sleep \n",
    "from json import dumps\n",
    "import json"
   ]
  },
  {
   "cell_type": "code",
   "execution_count": 36,
   "id": "df9a0149",
   "metadata": {},
   "outputs": [],
   "source": [
    "producer=KafkaProducer(bootstrap_servers=['13.57.205.221:9092'],\n",
    "                      value_serializer=lambda x:\n",
    "                      dumps(x).encode('utf-8'))# used kafkaproducer from kafka and pasted the public ip in the bootstrap servers\n",
    "#used value serializer to convert the value to steam data bytes "
   ]
  },
  {
   "cell_type": "code",
   "execution_count": 37,
   "id": "334b3ee2",
   "metadata": {},
   "outputs": [
    {
     "data": {
      "text/plain": [
       "<kafka.producer.future.FutureRecordMetadata at 0x1afde469c60>"
      ]
     },
     "execution_count": 37,
     "metadata": {},
     "output_type": "execute_result"
    }
   ],
   "source": [
    "producer.send('stock_kafka',value=\"{'tamilnadu':'india'}\") # u can check by typing random values in json "
   ]
  },
  {
   "cell_type": "code",
   "execution_count": 3,
   "id": "030c9ba6",
   "metadata": {},
   "outputs": [],
   "source": [
    "df = pd.read_csv(\"OneDrive/indexProcessed.csv\") #it's the path of the data and used pandas to read the data"
   ]
  },
  {
   "cell_type": "code",
   "execution_count": null,
   "id": "c68b37dd",
   "metadata": {},
   "outputs": [],
   "source": [
    "while True:\n",
    "    dict_stock =df.sample(1).to_dict(orient=\"records\")\n",
    "    producer.send('stock_kafka',value=dict_stock)#producer sending data to consumer and mentioned the topic name \n",
    "    sleep(3)# used sleep to stop at particular time to avoid server crashing "
   ]
  },
  {
   "cell_type": "code",
   "execution_count": 33,
   "id": "b39caf9a",
   "metadata": {},
   "outputs": [],
   "source": [
    "producer.flush() # to block the previously send messages and we can re run the server again"
   ]
  },
  {
   "cell_type": "code",
   "execution_count": null,
   "id": "4c11b543",
   "metadata": {},
   "outputs": [],
   "source": []
  }
 ],
 "metadata": {
  "kernelspec": {
   "display_name": "Python 3 (ipykernel)",
   "language": "python",
   "name": "python3"
  },
  "language_info": {
   "codemirror_mode": {
    "name": "ipython",
    "version": 3
   },
   "file_extension": ".py",
   "mimetype": "text/x-python",
   "name": "python",
   "nbconvert_exporter": "python",
   "pygments_lexer": "ipython3",
   "version": "3.10.9"
  }
 },
 "nbformat": 4,
 "nbformat_minor": 5
}
